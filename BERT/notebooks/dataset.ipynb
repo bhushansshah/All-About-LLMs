{
 "cells": [
  {
   "cell_type": "code",
   "execution_count": 2,
   "id": "10d5c8fc",
   "metadata": {},
   "outputs": [
    {
     "name": "stderr",
     "output_type": "stream",
     "text": [
      "/Users/bhushanshah/Documents/All-About-LLMs/BERT/venv/lib/python3.13/site-packages/tqdm/auto.py:21: TqdmWarning: IProgress not found. Please update jupyter and ipywidgets. See https://ipywidgets.readthedocs.io/en/stable/user_install.html\n",
      "  from .autonotebook import tqdm as notebook_tqdm\n"
     ]
    }
   ],
   "source": [
    "from datasets import load_dataset\n"
   ]
  },
  {
   "cell_type": "code",
   "execution_count": 11,
   "id": "ecbd33fa",
   "metadata": {},
   "outputs": [],
   "source": [
    "# Load 15% of the English Wikipedia dump\n",
    "from datasets import load_dataset\n",
    "\n",
    "ds = load_dataset(\"wikimedia/wikipedia\", \"20231101.en\", split=\"train[:15%]\")"
   ]
  },
  {
   "cell_type": "code",
   "execution_count": 12,
   "id": "5df72ecb",
   "metadata": {},
   "outputs": [
    {
     "name": "stderr",
     "output_type": "stream",
     "text": [
      "Saving the dataset (7/7 shards): 100%|██████████| 961172/961172 [00:00<00:00, 979743.02 examples/s] \n"
     ]
    }
   ],
   "source": [
    "ds.save_to_disk(\"../data/wikipedia_15percent\")"
   ]
  },
  {
   "cell_type": "code",
   "execution_count": 7,
   "id": "48817cf0",
   "metadata": {},
   "outputs": [
    {
     "name": "stdout",
     "output_type": "stream",
     "text": [
      "Dataset({\n",
      "    features: ['id', 'url', 'title', 'text'],\n",
      "    num_rows: 64078\n",
      "})\n"
     ]
    }
   ],
   "source": [
    "print(ds)"
   ]
  },
  {
   "cell_type": "code",
   "execution_count": 9,
   "id": "2150e373",
   "metadata": {},
   "outputs": [
    {
     "data": {
      "text/plain": [
       "'Anarchism is a political philosophy and movement that is skeptical of all justifications for authority and seeks to abolish the institutions it claims maintain unnecessary coercion and hierarchy, typically including nation-states, and capitalism. Anarchism advocates for the replacement of the state with stateless societies and voluntary free associations. As a historically left-wing movement, this reading of anarchism is placed on the farthest left of the political spectrum, usually described as'"
      ]
     },
     "execution_count": 9,
     "metadata": {},
     "output_type": "execute_result"
    }
   ],
   "source": [
    "ds[0]['text'][:500]  # preview first 500 characters"
   ]
  },
  {
   "cell_type": "code",
   "execution_count": null,
   "id": "6b7c8fa8",
   "metadata": {},
   "outputs": [
    {
     "name": "stderr",
     "output_type": "stream",
     "text": [
      "Saving the dataset (1/1 shards): 100%|██████████| 64078/64078 [00:00<00:00, 952292.35 examples/s]\n"
     ]
    }
   ],
   "source": []
  }
 ],
 "metadata": {
  "kernelspec": {
   "display_name": "venv",
   "language": "python",
   "name": "python3"
  },
  "language_info": {
   "codemirror_mode": {
    "name": "ipython",
    "version": 3
   },
   "file_extension": ".py",
   "mimetype": "text/x-python",
   "name": "python",
   "nbconvert_exporter": "python",
   "pygments_lexer": "ipython3",
   "version": "3.13.6"
  }
 },
 "nbformat": 4,
 "nbformat_minor": 5
}
